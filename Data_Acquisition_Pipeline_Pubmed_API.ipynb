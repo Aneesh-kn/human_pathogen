{
 "cells": [
  {
   "cell_type": "code",
   "execution_count": 1,
   "id": "cb50abe3",
   "metadata": {},
   "outputs": [],
   "source": [
    "import pandas as pd\n",
    "import random\n",
    "import numpy as np\n",
    "import re\n",
    "import json\n",
    "import pymongo"
   ]
  },
  {
   "cell_type": "code",
   "execution_count": 2,
   "id": "f675add2",
   "metadata": {},
   "outputs": [],
   "source": [
    "with open('config.json') as config_file:\n",
    "    config = json.load(config_file)\n",
    "entrez_email = config.get('entrez_email')\n",
    "entrez_key = config.get('entrez_key')"
   ]
  },
  {
   "cell_type": "markdown",
   "id": "f9b62b12",
   "metadata": {},
   "source": [
    "### Obtain LPSN list and map all synonyms \n",
    "\n",
    "Download LSPN excel file from https://www.bacterio.net/\n",
    "\n",
    "1) List of bacteria with status correct name is created.(validly published and not validly published).\n",
    "\n",
    "2) We take all synonyms and mispellings, match it with all other same nomenclature type. If one of them has correct name status, all synonyms are merged to correct name bacteria.\n",
    "\n",
    "3)All synonyms that cannot be matched with correct name is added along with 1 step list of bacterias with correct name. ( no other correct names associated with name)\n",
    "\tOnly one nomenclature type->status= synonym, no corect name\n",
    "\t2 or more nomenclature type-> all status type= synonyms, no correct name\n",
    "\n",
    "\n",
    "If \"status\" column has \"correct name\", then it is correct name for bacteria. If the \"status\" column has \"synonym\", it is synonym to some other bacteria which has status \"correct name\". Hence it is added to synonyms list mapping to bacteria with correct name.\n",
    "\n",
    "\"mispellings\" are added with synonyms if atleast one bacteria has status \"correct name\" corresponding to same nomenclature. If only \"synonyms\" are present without correct name for bacteria, all names are added to master list."
   ]
  },
  {
   "cell_type": "code",
   "execution_count": 3,
   "id": "1e1f546d",
   "metadata": {},
   "outputs": [],
   "source": [
    "import pandas as pd\n",
    "\n",
    "\n",
    "def synonyms(bacteria_name):\n",
    "    found_in_lspn=False\n",
    "    bacteria_name=bacteria_name.lower()\n",
    "    g_name=bacteria_name.split(\" \")[0].capitalize().strip()\n",
    "    s_name=bacteria_name.split(\" \")[1].strip().lower()\n",
    "    try:\n",
    "        df=data[data[\"genus_name\"]==g_name]\n",
    "        df=df[df[\"sp_epithet\"]==s_name]\n",
    "        #print(df)\n",
    "        n_type=df['nomenclatural_type'][df['subsp_epithet'].isna()].iat[0]\n",
    "        #print(n_type)\n",
    "        found_in_lspn=True\n",
    "    except:\n",
    "        found_in_lspn=False\n",
    "        \n",
    "    correct_name=\"\"\n",
    "    synonyms=[]\n",
    "    correct_name_found=False\n",
    "    misspelling=[]\n",
    "    if found_in_lspn==True:\n",
    "        status=str(df['status'][df['subsp_epithet'].isna()].iat[0]).lower().split(\";\")[-1].strip()\n",
    "        if status==\"correct name\":\n",
    "            correct_name=bacteria_name\n",
    "        else:\n",
    "            #for i in n_type.split(\";\"):\n",
    "            res= data[data['nomenclatural_type'].str.contains(n_type, case=True, flags=0, na=None, regex=True)]\n",
    "            #print(res)\n",
    "            for i in res.index:\n",
    "                name= str(data.loc[i][\"genus_name\"]).lower()+\" \"+str(data.loc[i][\"sp_epithet\"]).lower()\n",
    "                status=str(data.loc[i][\"status\"]).lower().split(\";\")[-1].strip()\n",
    "                if status==\"correct name\" and correct_name_found==False:\n",
    "                    correct_name=name\n",
    "                    correct_name_found=True\n",
    "                elif status==\"synonym\":\n",
    "                    synonyms.append(name)\n",
    "                elif status==\"misspelling\":\n",
    "                    synonyms.append(name)\n",
    "                    \n",
    "    if correct_name==\"\":\n",
    "        correct_name=bacteria_name        \n",
    "        \n",
    "    return found_in_lspn,correct_name, [i for i in list(set(synonyms)) if i!=correct_name]\n",
    "        "
   ]
  },
  {
   "cell_type": "code",
   "execution_count": 20,
   "id": "0fd04896",
   "metadata": {
    "scrolled": true
   },
   "outputs": [],
   "source": [
    "import pymongo\n",
    "myclient = pymongo.MongoClient(\"mongodb://localhost:27017/\")\n",
    "dblist = myclient.list_database_names()\n",
    "mydb = myclient[\"pathogens_filtered\"]\n",
    "\n",
    "lspn = mydb[\"lspn_final_new\"]\n",
    "synonym=mydb[\"new_synonyms_new\"]\n",
    "\n",
    "def extract_lspn_and_synonyms(file_name):\n",
    "    data=pd.read_csv(file_name)\n",
    "    data=data.dropna(subset=[\"sp_epithet\"])\n",
    "    allspecies_de=[]\n",
    "    for i in data.index:  \n",
    "        allspecies_de.append(str(data.loc[i]['genus_name']).lower()+\" \"+str(data.loc[i]['sp_epithet']))\n",
    "\n",
    "    for i in list(set(allspecies_de)):\n",
    "        found_in_lspn, correct_name,synonym_names=synonyms(i)\n",
    "        #print(i,correct_name,synonym_names)\n",
    "        if found_in_lspn==True:\n",
    "            count= lspn.count_documents({\"bacteria name\":correct_name})\n",
    "            if count<1:\n",
    "                x=lspn.insert_one({\"bacteria name\":correct_name}) \n",
    "        for j in synonym_names:\n",
    "            count= synonym.count_documents({\"bacteria synonym\":j,\"bacteria name\": correct_name})\n",
    "            if count<1:\n",
    "                x=synonym.insert_one({\"bacteria synonym\":j,\"bacteria name\": correct_name})\n",
    "        "
   ]
  },
  {
   "cell_type": "code",
   "execution_count": 21,
   "id": "c172a6cb",
   "metadata": {},
   "outputs": [
    {
     "name": "stderr",
     "output_type": "stream",
     "text": [
      "C:\\Users\\anees\\AppData\\Local\\Temp\\ipykernel_16796\\3167983024.py:30: UserWarning: This pattern is interpreted as a regular expression, and has match groups. To actually get the groups, use str.extract.\n",
      "  res= data[data['nomenclatural_type'].str.contains(n_type, case=True, flags=0, na=None, regex=True)]\n"
     ]
    }
   ],
   "source": [
    "extract_lspn_and_synonyms(\"lpsn_gss_2023-10-20.csv\")"
   ]
  },
  {
   "cell_type": "markdown",
   "id": "e66dbc80",
   "metadata": {},
   "source": [
    "### Data Aquisition \n",
    "Download from pubmed\n",
    "\n",
    "First Count number of papers availabe for bacteria using \"species+genus name\".\n",
    "\n",
    "Then obtain all papers till end of count.\n",
    "\n",
    "Use pubmed API key to download multiple queries simultaneosly upto 10 queries/sec . Else pubmed rejects more than 2 queries/sec.\n"
   ]
  },
  {
   "cell_type": "code",
   "execution_count": 29,
   "id": "01ac1984",
   "metadata": {},
   "outputs": [],
   "source": [
    "#!pip install biopython\n",
    "from Bio import Entrez \n",
    "#https://biopython-tutorial.readthedocs.io/en/latest/notebooks/09%20-%20Accessing%20NCBIs%20Entrez%20databases.html#\n",
    "from Bio import Medline\n",
    "\n",
    "def get_pubmed_NUM_RESULTS(query, mindate, maxdate,database='pubmed'):\n",
    "    Entrez.email = entrez_email\n",
    "    Entrez.api_key =entrez_key\n",
    "    query_f= f\"{query} AND {mindate}[PDAT] : {maxdate}[PDAT]\"\n",
    "    handle = Entrez.egquery(term=query_f)\n",
    "    record = Entrez.read(handle)\n",
    "    #print(record)\n",
    "    for row in record[\"eGQueryResult\"]: \n",
    "        if row[\"DbName\"] == database: \n",
    "            #print(\"total records in pubmed with given keywords {}= {}\".format(str(query), row[\"Count\"]))\n",
    "            return int(row[\"Count\"])\n",
    "            \n",
    "\n",
    "    \n",
    "def get_pubmed_structured_data(query,mindate, maxdate,size=10000, start_index=0):\n",
    "    Entrez.email = entrez_email\n",
    "    Entrez.api_key = entrez_key\n",
    "    all_res = []\n",
    "    count_of_papers=get_pubmed_NUM_RESULTS(query,mindate=str(mindate), maxdate=str(maxdate))\n",
    "    #print(count_of_papers)\n",
    "    #query=\"((human[Title/Abstract]) AND (bacteria[Title/Abstract]))\"\n",
    "    print(query)\n",
    "    retmax=100\n",
    "    for i in range(size//retmax):\n",
    "        retstart = start_index + i*retmax\n",
    "        if retstart>9999 or retstart>count_of_papers:\n",
    "            return all_res\n",
    "        print('...%d'%(start_index + (i+1)*retmax),end=' ')\n",
    "        try:\n",
    "            handle = Entrez.esearch(db=\"pubmed\", term=query, retmax=retmax, retstart=retstart, mindate=str(mindate), maxdate=str(maxdate))\n",
    "            record = Entrez.read(handle)\n",
    "            idlist = record[\"IdList\"]\n",
    "            #print(\"count\",record[\"Count\"])\n",
    "        \n",
    "            #print(len(idlist))\n",
    "            handle = Entrez.efetch(db=\"pubmed\", id=idlist, rettype=\"medline\", retmode=\"text\")\n",
    "            records = Medline.parse(handle)    \n",
    "            res=[]\n",
    "            for doc in records:\n",
    "                if 'AB' in doc and int(doc['DP'].split()[0])>=int(mindate) and int(doc['DP'].split()[0])<=int(maxdate):\n",
    "                    if 'MH' in doc:\n",
    "                        res.append([doc['PMID'],doc['DP'],doc['TI'],doc['AB'],doc['MH']])\n",
    "                    else:\n",
    "                        res.append([doc['PMID'],doc['DP'],doc['TI'],doc['AB'],\"no mesh terms \"])        \n",
    "            #res = [[doc['PMID'],doc['DP'],doc['TI'],doc['AB'],doc['MH']]  if 'AB' in doc and int(doc['DP'].split()[0])>=int(mindate) and int(doc['DP'].split()[0])<=int(maxdate)]\n",
    "        except Exception as e:\n",
    "            print('<Warning: error at:%d  [%s]>'%(i, e), end=' ')\n",
    "        else:\n",
    "            all_res.extend(res)\n",
    "    print('Done!')\n",
    "    return all_res\n"
   ]
  },
  {
   "cell_type": "markdown",
   "id": "a23e0ac9",
   "metadata": {},
   "source": [
    "### Filtering pipeline\n",
    "\n",
    "#### Stage 1- Filter abstracts with human association keywords\n",
    "query=\"human humans male males female girl girls boy boys adolescent adolescents individuals individual females baby babies elderly man men women woman infant infants patient patients child children adult adults\"\n",
    "\n",
    "#### Stage 2- Filter abstracts with infection/causation association keywords\n",
    "query=\"infected derived infection infections infectious infective life threat disease morbidity mortality sepsis septic fibrosis mycetoma septicaemia sinonasal rhinosinusitis septicaemia diarrhea bacteraemia bacteremia meningitis fever pus cystic purulent pyogenic abscess empyema pneumonia phlegmon erysipelas ulcer ecthyma diarrhoea dysentry systemic\"\n",
    "+\n",
    "words ending with \"itis\" or \"osis\""
   ]
  },
  {
   "cell_type": "code",
   "execution_count": 30,
   "id": "9d8e814e",
   "metadata": {},
   "outputs": [],
   "source": [
    "import re\n",
    "def filter_dataset(abstract):\n",
    "    #stage 1 to get abstracts relavent to humans\n",
    "    stage_1=False\n",
    "    query=\"human humans male males female girl girls boy boys adolescent adolescents individuals individual females baby babies elderly man men women woman infant infants patient patients child children adult adults\"\n",
    "    query=query.split(\" \")\n",
    "    string1= str(abstract)\n",
    "    string1=re.sub('[^a-zA-Z ]', \"\",string1)\n",
    "    for j in query:\n",
    "        if j in \" \".join(string1.lower().split(\".\")).split(\" \"):\n",
    "            #print(j)\n",
    "            stage_1=True\n",
    "            break\n",
    "    if stage_1==False:\n",
    "        return stage_1\n",
    "    \n",
    "    #stage 2 to get abstracts relavent to infections from abstracts related to humans\n",
    "    found=False\n",
    "    query=\"infected derived infection infections infectious infective life threat disease morbidity mortality sepsis septic fibrosis mycetoma septicaemia sinonasal rhinosinusitis septicaemia diarrhea bacteraemia bacteremia meningitis fever pus cystic purulent pyogenic abscess empyema pneumonia phlegmon erysipelas ulcer ecthyma diarrhoea dysentry systemic\"\n",
    "    query=query.split(\" \")\n",
    "    for j in query:\n",
    "        if j in \" \".join(string1.lower().split(\".\")).split(\" \"):\n",
    "            #print(j)\n",
    "            found=True\n",
    "            break\n",
    "    if found==False and len(re.findall(\"[a-zA-Z]+itis+[ .]\", string1))>0:\n",
    "        found=True\n",
    "    elif found==False and len(re.findall(\"[a-zA-Z]+osis+[ .]\", string1))>0:\n",
    "        found=True                  \n",
    "    return found"
   ]
  },
  {
   "cell_type": "code",
   "execution_count": 31,
   "id": "e162b47c",
   "metadata": {},
   "outputs": [],
   "source": [
    "def filter_results(results):\n",
    "    selected_results=[]\n",
    "    for result in results:\n",
    "        pmid, date, title, abstract,mesh = result\n",
    "        if filter_dataset(str(title)+str(abstract)) is True:\n",
    "            selected_results.append(result)\n",
    "    return selected_results"
   ]
  },
  {
   "cell_type": "markdown",
   "id": "e8638f10",
   "metadata": {},
   "source": [
    "### Extract LSPN list of bacteria\n",
    "\n",
    "Download with 4 differnt process for faster data acquisition\n",
    "\n",
    "3 for LPSN list and 1 for synonyms of bacteria in LSPN list "
   ]
  },
  {
   "cell_type": "code",
   "execution_count": 32,
   "id": "d856d5ef",
   "metadata": {},
   "outputs": [
    {
     "name": "stdout",
     "output_type": "stream",
     "text": [
      "20345 4706\n"
     ]
    }
   ],
   "source": [
    "myclient = pymongo.MongoClient(\"mongodb://localhost:27017/\")\n",
    "dblist = myclient.list_database_names()\n",
    "mydb = myclient[\"pathogens_filtered\"]\n",
    "mycol = mydb[\"lspn_final_new\"]\n",
    "syn=mydb[\"new_synonyms_new\"]\n",
    "list_of_bacteria_lspn=[]\n",
    "list_of_bacteria_syn=[]\n",
    "result=mycol.find({})\n",
    "for i in result:\n",
    "    list_of_bacteria_lspn.append(i['bacteria name'])\n",
    "\n",
    "result=syn.find({})\n",
    "for i in result:\n",
    "    list_of_bacteria_syn.append(i['bacteria synonym'])\n",
    "print(len(list_of_bacteria_lspn),len(list_of_bacteria_syn))"
   ]
  },
  {
   "cell_type": "code",
   "execution_count": 33,
   "id": "1b155578",
   "metadata": {},
   "outputs": [
    {
     "data": {
      "text/plain": [
       "20345"
      ]
     },
     "execution_count": 33,
     "metadata": {},
     "output_type": "execute_result"
    }
   ],
   "source": [
    "div=len(list_of_bacteria_lspn)//3\n",
    "count=len(list_of_bacteria_lspn)\n",
    "len(list_of_bacteria_lspn[:div])+len(list_of_bacteria_lspn[div:2*div])+len(list_of_bacteria_lspn[2*div:])"
   ]
  },
  {
   "cell_type": "code",
   "execution_count": 34,
   "id": "d9f172c5",
   "metadata": {},
   "outputs": [],
   "source": [
    "#!pip install pymongo\n",
    "def filter_write_database(pid,date, bacteria_name,title, abstract,mesh_terms):\n",
    "    myclient = pymongo.MongoClient(\"mongodb://localhost:27017/\")\n",
    "    dblist = myclient.list_database_names()\n",
    "    mydb = myclient[\"pathogens_db\"]\n",
    "    mycol = mydb[\"pathogens_coll\"]\n",
    "    myquery={\"pid\":pid,\"bacteria name\":bacteria_name }\n",
    "    count = mycol.count_documents(myquery)\n",
    "\n",
    "    # Check if the document exists\n",
    "    if count < 1:\n",
    "        x = mycol.insert_one({\"pid\":pid,\"bacteria name\":bacteria_name,\"date\":date,\"title\":title,\"abstract\":abstract,\"Mesh terms\":mesh_terms })\n"
   ]
  },
  {
   "cell_type": "code",
   "execution_count": 35,
   "id": "1a329cea",
   "metadata": {
    "scrolled": true
   },
   "outputs": [
    {
     "name": "stdout",
     "output_type": "stream",
     "text": [
      "acidovorax+cattleyae\n",
      "...100 "
     ]
    }
   ],
   "source": [
    "import pymongo\n",
    "myclient = pymongo.MongoClient(\"mongodb://localhost:27017/\")\n",
    "dblist = myclient.list_database_names()\n",
    "mydb = myclient[\"pathogens_filtered\"]\n",
    "lspn = mydb[\"lspn_final_new\"]\n",
    "synonym_db = mydb[\"new_synonyms_new\"]\n",
    "\n",
    "start_date=\"1900\"\n",
    "end_date=\"2024\"\n",
    "download_complete=[]\n",
    "\n",
    "for ind in list_of_bacteria_lspn:\n",
    "    f_res= filter_results(get_pubmed_structured_data(ind,str(start_date),str(end_date)))\n",
    "    if len(f_res)>0:\n",
    "        for i_results in f_res: \n",
    "            pid, date, title, abstract,mesh_terms=i_results\n",
    "            filter_write_database(int(pid),date, ind,title, abstract,str(mesh_terms))\n",
    "        download_complete.append(ind)\n",
    "    break\n",
    "    \n",
    "\n",
    "\n"
   ]
  },
  {
   "cell_type": "code",
   "execution_count": 60,
   "id": "90265b54",
   "metadata": {
    "scrolled": true
   },
   "outputs": [
    {
     "name": "stdout",
     "output_type": "stream",
     "text": [
      "clostridium histolyticum\n",
      "...100 ...200 ...300 "
     ]
    }
   ],
   "source": [
    "myclient = pymongo.MongoClient(\"mongodb://localhost:27017/\")\n",
    "dblist = myclient.list_database_names()\n",
    "mydb = myclient[\"pathogens_filtered\"]\n",
    "lspn = mydb[\"lspn_final_new\"]\n",
    "synonym_db = mydb[\"new_synonyms_new\"]\n",
    "\n",
    "start_date=\"2020\"\n",
    "end_date=\"2024\"\n",
    "download_complete=[]\n",
    "\n",
    "for ind in list_of_bacteria_syn:\n",
    "    f_res= filter_results(get_pubmed_structured_data(ind,str(start_date),str(end_date)))\n",
    "    if len(f_res)>0:\n",
    "        for i_results in f_res: \n",
    "            pid, date, title, abstract,mesh_terms=i_results\n",
    "            try:\n",
    "                syn_res=synonym_db.find({\"bacteria synonym\":ind})\n",
    "                for syn in syn_res: \n",
    "                    filter_write_database(int(pid),date, syn['bacteria name'],title, abstract,str(mesh_terms))\n",
    "                    download_complete.append(ind)\n",
    "            except:\n",
    "                print(\"error in mapping synonyms for\", i['bacteria name'],ind[\"pid\"])\n",
    "\n",
    "    break\n"
   ]
  },
  {
   "cell_type": "code",
   "execution_count": null,
   "id": "e42f9afb",
   "metadata": {},
   "outputs": [],
   "source": []
  }
 ],
 "metadata": {
  "kernelspec": {
   "display_name": "Python 3 (ipykernel)",
   "language": "python",
   "name": "python3"
  },
  "language_info": {
   "codemirror_mode": {
    "name": "ipython",
    "version": 3
   },
   "file_extension": ".py",
   "mimetype": "text/x-python",
   "name": "python",
   "nbconvert_exporter": "python",
   "pygments_lexer": "ipython3",
   "version": "3.11.5"
  }
 },
 "nbformat": 4,
 "nbformat_minor": 5
}
